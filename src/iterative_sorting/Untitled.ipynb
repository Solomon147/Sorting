{
 "cells": [
  {
   "cell_type": "code",
   "execution_count": 1,
   "metadata": {},
   "outputs": [
    {
     "data": {
      "text/plain": [
       "['Joe', 2, 'Ted', 4.98, 14, 'Sam', 'void *', '42', 'float', 'pointers', 5006]"
      ]
     },
     "execution_count": 1,
     "metadata": {},
     "output_type": "execute_result"
    }
   ],
   "source": [
    "['Joe', 2, 'Ted', 4.98, 14, 'Sam', 'void *','42','float','pointers', 5006]"
   ]
  },
  {
   "cell_type": "code",
   "execution_count": 2,
   "metadata": {},
   "outputs": [],
   "source": [
    "assignment = ['Joe', 2, 'Ted', 4.98, 14, 'Sam', 'void *','42','float','pointers', 5006]"
   ]
  },
  {
   "cell_type": "code",
   "execution_count": 21,
   "metadata": {},
   "outputs": [
    {
     "name": "stdout",
     "output_type": "stream",
     "text": [
      "['Joe', 2, 'Ted', 4.98, 14, 'Sam', 'void *', '42', 'float', 'pointers', 5006]\n"
     ]
    }
   ],
   "source": [
    "print(assignment[:])"
   ]
  },
  {
   "cell_type": "code",
   "execution_count": 16,
   "metadata": {},
   "outputs": [
    {
     "name": "stdout",
     "output_type": "stream",
     "text": [
      "Joe\n",
      "2\n",
      "Ted\n",
      "4.98\n",
      "14\n",
      "Sam\n",
      "void *\n",
      "42\n",
      "float\n",
      "pointers\n",
      "5006\n"
     ]
    }
   ],
   "source": [
    "for i in range(0, len(assignment)):\n",
    "    print(assignment[i])"
   ]
  },
  {
   "cell_type": "code",
   "execution_count": 17,
   "metadata": {},
   "outputs": [
    {
     "name": "stdout",
     "output_type": "stream",
     "text": [
      "Joe\n",
      "2\n",
      "Ted\n",
      "4.98\n",
      "14\n",
      "Sam\n",
      "void *\n",
      "42\n",
      "float\n",
      "pointers\n",
      "5006\n"
     ]
    }
   ],
   "source": [
    "for i in assignment:\n",
    "    print(i)"
   ]
  },
  {
   "cell_type": "code",
   "execution_count": 19,
   "metadata": {},
   "outputs": [
    {
     "name": "stdout",
     "output_type": "stream",
     "text": [
      "Joe\n",
      "2\n",
      "Ted\n",
      "4.98\n",
      "14\n",
      "Sam\n",
      "void *\n",
      "42\n",
      "float\n",
      "pointers\n",
      "5006\n"
     ]
    }
   ],
   "source": [
    "print(*assignment, sep=\"\\n\")"
   ]
  },
  {
   "cell_type": "code",
   "execution_count": 22,
   "metadata": {},
   "outputs": [],
   "source": [
    "import math\n",
    "import random\n",
    "import time\n",
    "from datetime import datetime\n",
    "\n",
    "animals = ['Duck', 'Jackal', 'Hippo', 'Aardvark', 'Cat', 'Flamingo', 'Iguana', 'Giraffe', 'Elephant', 'Bear']"
   ]
  },
  {
   "cell_type": "code",
   "execution_count": 36,
   "metadata": {},
   "outputs": [
    {
     "name": "stdout",
     "output_type": "stream",
     "text": [
      "['Duck', 'Jackal', 'Hippo', 'Aardvark', 'Cat', 'Flamingo', 'Iguana', 'Giraffe', 'Elephant', 'Bear']\n"
     ]
    }
   ],
   "source": [
    "# Return the name of all animals\n",
    "def get_animals():\n",
    "    return animals\n",
    "print(animals)"
   ]
  },
  {
   "cell_type": "code",
   "execution_count": 39,
   "metadata": {},
   "outputs": [
    {
     "name": "stdout",
     "output_type": "stream",
     "text": [
      "10\n",
      "['Duck', 'Jackal', 'Hippo', 'Aardvark', 'Cat', 'Flamingo', 'Iguana', 'Giraffe', 'Elephant', 'Bear']\n"
     ]
    }
   ],
   "source": [
    "\n",
    "# Returns the number of animals\n",
    "def count_animals():\n",
    "    num_animals = 0\n",
    "    for animal in animals:\n",
    "        num_animals += 1\n",
    "    return num_animals\n",
    "print(count_animals())\n",
    "print(list(animals))"
   ]
  },
  {
   "cell_type": "code",
   "execution_count": null,
   "metadata": {},
   "outputs": [],
   "source": [
    "\n",
    "\n",
    "# Returns each animal with all letters lowercase\n",
    "def get_lowercase_animals():\n",
    "    lowercase_animals = list(animals)\n",
    "    animal_index = 0\n",
    "    for animal in animals:\n",
    "        lowercase_animals[animal_index] = lowercase_animals[animal_index].lower()\n",
    "        animal_index += 1\n",
    "    return lowercase_animals"
   ]
  },
  {
   "cell_type": "code",
   "execution_count": null,
   "metadata": {},
   "outputs": [],
   "source": [
    "# Given the name of a animal,\n",
    "# Return True if that animal is in the list, False otherwise\n",
    "def has_animal(animal_name):\n",
    "    for animal in animals:\n",
    "        if animal == animal_name:\n",
    "            return True\n",
    "    return False\n"
   ]
  },
  {
   "cell_type": "code",
   "execution_count": null,
   "metadata": {},
   "outputs": [],
   "source": [
    "# Given the name of a animal,\n",
    "# Return the animal's index if that animal is in the list, -1 otherwise\n",
    "def find_animal(animal_name):\n",
    "    animal_index = 0\n",
    "    for animal in animals:\n",
    "        if animal == animal_name:\n",
    "            return animal_index\n",
    "        animal_index += 1\n",
    "    return -1"
   ]
  },
  {
   "cell_type": "code",
   "execution_count": null,
   "metadata": {},
   "outputs": [],
   "source": [
    "# Shuffle the order of the stored animals\n",
    "def shuffle_animals():\n",
    "    num_animals = count_animals()\n",
    "    for i in range(num_animals):\n",
    "        random_i = random.randrange(num_animals)\n",
    "        temp_storage = animals[i]\n",
    "        animals[i] = animals[random_i]\n",
    "        animals[random_i] = temp_storage"
   ]
  },
  {
   "cell_type": "code",
   "execution_count": null,
   "metadata": {},
   "outputs": [],
   "source": [
    "\n",
    "# Print a list of all possible animal pairs\n",
    "def print_animal_pairs():\n",
    "    counter = 0\n",
    "    for animal_1 in animals:\n",
    "        for animal_2 in animals:\n",
    "            counter += 1"
   ]
  },
  {
   "cell_type": "code",
   "execution_count": null,
   "metadata": {},
   "outputs": [],
   "source": [
    "# Print a list of all possible animal triples\n",
    "def print_animal_triples():\n",
    "    for animal_1 in animals:\n",
    "        for animal_2 in animals:\n",
    "            for animal_3 in animals:\n",
    "                print (f\"{animal_1} - {animal_2} - {animal_3}\")"
   ]
  },
  {
   "cell_type": "code",
   "execution_count": null,
   "metadata": {},
   "outputs": [],
   "source": [
    "\n",
    "# Given a list,\n",
    "# Return a list of all possible combination of animals\n",
    "def get_animal_combos(l):\n",
    "    list_length = len(l)\n",
    "    if list_length == 0:\n",
    "        return [ [] ]\n",
    "    else:\n",
    "        animal_combos = []\n",
    "        previous_combos = get_animal_combos( l[1:] )\n",
    "        for combo in previous_combos:\n",
    "            animal_combos.append( combo )\n",
    "            animal_combos.append( combo + [l[0]] )\n",
    "        return animal_combos"
   ]
  },
  {
   "cell_type": "code",
   "execution_count": null,
   "metadata": {},
   "outputs": [],
   "source": [
    "# Given a list,\n",
    "# Return a list of all possible arrangements of list items\n",
    "def get_all_arrangements(l):\n",
    "    list_length = len(l)\n",
    "    if list_length <= 1:\n",
    "        return [l]\n",
    "    else:\n",
    "        arrangements = []\n",
    "        previous_arrangements = get_all_arrangements( l[1:] )\n",
    "        for previous_arrangement in previous_arrangements:\n",
    "            for i in range(len(previous_arrangement) + 1):\n",
    "                arrangements.append( previous_arrangement[i:] + [l[0]] + previous_arrangement[:i] )\n",
    "        return arrangements\n"
   ]
  },
  {
   "cell_type": "code",
   "execution_count": null,
   "metadata": {},
   "outputs": [],
   "source": [
    "# Given a list,\n",
    "# Return the list's length\n",
    "# O(n)\n",
    "def get_length_of_list(l):\n",
    "    list_length = 0\n",
    "    for i in l:\n",
    "        list_length += 1\n",
    "    return list_length"
   ]
  },
  {
   "cell_type": "code",
   "execution_count": null,
   "metadata": {},
   "outputs": [],
   "source": [
    "# Given a list,\n",
    "# Return the list's length\n",
    "# O(1)\n",
    "def better_get_length_of_list(l):\n",
    "    return len(l)\n",
    "\n"
   ]
  },
  {
   "cell_type": "code",
   "execution_count": null,
   "metadata": {},
   "outputs": [],
   "source": [
    "# This can be used to time the runtime of various functions\n",
    "def print_function_runtime():\n",
    "    start_time = datetime.now()\n",
    "    x = get_all_arrangements(animals_11)\n",
    "    # x = get_all_arrangements(animals_10 + [\"Kangaroo\"])\n",
    "    end_time = datetime.now()\n",
    "    print (end_time - start_time)\n",
    "\n"
   ]
  },
  {
   "cell_type": "code",
   "execution_count": null,
   "metadata": {},
   "outputs": [],
   "source": [
    "# num_animals = 9\n",
    "# num_arrangements = 362,880\n",
    "# runtime = 1.2 seconds\n",
    "\n",
    "# num_animals = 10\n",
    "# num_arrangements = 3,628,800\n",
    "# runtime = 9.6 seconds\n",
    "\n",
    "# num_animals = 11\n",
    "# num_arrangements = 39,916,800\n",
    "# runtime = 2 minutes 40.7 seconds\n",
    "\n",
    "\n",
    "animals_1 = [\"Aardvark\"]\n",
    "animals_2 = [\"Aardvark\", \"Bear\"]\n",
    "animals_3 = [\"Aardvark\", \"Bear\", \"Cat\"]\n",
    "animals_4 = [\"Aardvark\", \"Bear\", \"Cat\", \"Duck\"]\n",
    "animals_5 = [\"Aardvark\", \"Bear\", \"Cat\", \"Duck\", \"Elephant\"]\n",
    "animals_6 = [\"Aardvark\", \"Bear\", \"Cat\", \"Duck\", \"Elephant\", \"Flamingo\"]\n",
    "animals_7 = [\"Aardvark\", \"Bear\", \"Cat\", \"Duck\", \"Elephant\", \"Flamingo\", \"Giraffe\"]\n",
    "animals_8 = [\"Aardvark\", \"Bear\", \"Cat\", \"Duck\", \"Elephant\", \"Flamingo\", \"Giraffe\", \"Hippo\"]\n",
    "animals_9 = [\"Aardvark\", \"Bear\", \"Cat\", \"Duck\", \"Elephant\", \"Flamingo\", \"Giraffe\", \"Hippo\", \"Iguana\"]\n",
    "animals_10 = [\"Aardvark\", \"Bear\", \"Cat\", \"Duck\", \"Elephant\", \"Flamingo\", \"Giraffe\", \"Hippo\", \"Iguana\", \"Jackal\"]\n",
    "animals_11 = [\"Aardvark\", \"Bear\", \"Cat\", \"Duck\", \"Elephant\", \"Flamingo\", \"Giraffe\", \"Hippo\", \"Iguana\", \"Jackal\", \"Kangaroo\"]\n",
    "\n",
    "animals_sorted = [\"Aardvark\", \"Bear\", \"Cat\", \"Duck\", \"Elephant\", \"Flamingo\", \"Giraffe\", \"Hippo\", \"Iguana\", \"Jackal\"]\n",
    "\n"
   ]
  },
  {
   "cell_type": "code",
   "execution_count": 48,
   "metadata": {},
   "outputs": [
    {
     "ename": "TypeError",
     "evalue": "'list' object cannot be interpreted as an integer",
     "output_type": "error",
     "traceback": [
      "\u001b[0;31m---------------------------------------------------------------------------\u001b[0m",
      "\u001b[0;31mTypeError\u001b[0m                                 Traceback (most recent call last)",
      "\u001b[0;32m<ipython-input-48-ce9f1b3b8d77>\u001b[0m in \u001b[0;36m<module>\u001b[0;34m\u001b[0m\n\u001b[0;32m----> 1\u001b[0;31m \u001b[0;32mfor\u001b[0m \u001b[0mi\u001b[0m \u001b[0;32min\u001b[0m \u001b[0mrange\u001b[0m\u001b[0;34m(\u001b[0m\u001b[0mx\u001b[0m\u001b[0;34m)\u001b[0m\u001b[0;34m:\u001b[0m\u001b[0;34m\u001b[0m\u001b[0;34m\u001b[0m\u001b[0m\n\u001b[0m\u001b[1;32m      2\u001b[0m     \u001b[0mx\u001b[0m \u001b[0;34m=\u001b[0m \u001b[0;34m[\u001b[0m\u001b[0;34m]\u001b[0m\u001b[0;34m\u001b[0m\u001b[0;34m\u001b[0m\u001b[0m\n\u001b[1;32m      3\u001b[0m     \u001b[0mx\u001b[0m \u001b[0;34m+=\u001b[0m \u001b[0;34m\"something\"\u001b[0m\u001b[0;34m\u001b[0m\u001b[0;34m\u001b[0m\u001b[0m\n\u001b[1;32m      4\u001b[0m \u001b[0;32mreturn\u001b[0m \u001b[0mx\u001b[0m\u001b[0;34m\u001b[0m\u001b[0;34m\u001b[0m\u001b[0m\n\u001b[1;32m      5\u001b[0m \u001b[0mprint\u001b[0m\u001b[0;34m(\u001b[0m\u001b[0mi\u001b[0m\u001b[0;34m)\u001b[0m\u001b[0;34m\u001b[0m\u001b[0;34m\u001b[0m\u001b[0m\n",
      "\u001b[0;31mTypeError\u001b[0m: 'list' object cannot be interpreted as an integer"
     ]
    }
   ],
   "source": [
    "def binary_search(arr, target):\n",
    "    # Set boundaries for low and high marks to search\n",
    "    lo = 0\n",
    "    hi = len(arr)\n",
    "    # While low and high do not overlap...\n",
    "    while lo < hi:\n",
    "        # Check the midpoint\n",
    "        mid = (lo + hi) // 2\n",
    "        # If it's equal, return True\n",
    "        if arr[mid] == target:\n",
    "            return True\n",
    "        # Else, if target is smaller\n",
    "        elif target < arr[mid]:\n",
    "            # set the high to midpoint value\n",
    "            hi = mid\n",
    "        # Else if target is bigger\n",
    "        else:\n",
    "            # set the low to midpoint value\n",
    "            lo = mid + 1\n",
    "    # If we get to the end, return False\n",
    "    return False"
   ]
  },
  {
   "cell_type": "code",
   "execution_count": null,
   "metadata": {},
   "outputs": [],
   "source": [
    "def insertion_sort(arr):\n",
    "    # Divide your hand into sorted on the left and unsorted on the right\n",
    "    # Sorted is just the first element\n",
    "    # then go card by card and move them into place.\n",
    "    # Loop through all elements in unsorted...\n",
    "    for i in range(1, len(arr)):\n",
    "        temp = arr[i]\n",
    "        j = i  # j is our sliding index\n",
    "        # Shift sorted to the right until correct position found\n",
    "        while j > 0 and temp < arr[j - 1]:\n",
    "            arr[j] = arr[j - 1]  # Slide over one element\n",
    "            j -= 1\n",
    "        # Insert at that position\n",
    "        arr[j] = temp\n",
    "    return arr"
   ]
  },
  {
   "cell_type": "code",
   "execution_count": null,
   "metadata": {},
   "outputs": [],
   "source": [
    "def selection_sort( arr ):\n",
    "    # loop through n-1 elements\n",
    "    for i in range(0, len(arr) - 1):\n",
    "        small_num = arr[i]\n",
    "        current_index = i\n",
    "        for j in range(i+1,len(arr)):\n",
    "            if (small_num > arr[j]):\n",
    "                small_num = arr[j]\n",
    "                current_index = j\n",
    "        arr[current_index] = arr[i]\n",
    "        arr[i] = small_num\n",
    "        print(arr)"
   ]
  },
  {
   "cell_type": "code",
   "execution_count": null,
   "metadata": {},
   "outputs": [],
   "source": [
    "# TO-DO:  implement the Bubble Sort function below\n",
    "def bubble_sort( arr )    swap = True\n",
    "    #While swap is True\n",
    "    while swap is True:\n",
    "        #Compare each element to its neighbor\n",
    "        i = 0\n",
    "        count = 0\n",
    "        while i < (len(arr) - 1):\n",
    "        #If elements in wrong position (relative to each other, swap them)\n",
    "            if arr[i] > arr[i+1]:\n",
    "                a = arr[i]\n",
    "                b = arr[i+1]\n",
    "                arr[i] = b\n",
    "                arr[i+1] = a\n",
    "                i += 1\n",
    "                count += 1\n",
    "            else:\n",
    "                i += 1\n",
    "    # If no swaps performed, stop.\n",
    "        if count < 1:\n",
    "            swap = False  \n",
    "    # Else, go back to the element at index 0 and repeat step 1.\n",
    "        else:\n",
    "            swap = True\n",
    "    return arr"
   ]
  },
  {
   "cell_type": "code",
   "execution_count": null,
   "metadata": {},
   "outputs": [],
   "source": [
    "# STRETCH: implement the Count Sort function below\n",
    "def count_sort( arr, maximum=-1 )    if len(arr) < 1:\n",
    "        return arr\n",
    "    maximum = max(arr)\n",
    "    if min(arr) < 0:\n",
    "        return \"Error, negative numbers not allowed in Count Sort\"\n",
    "    count = [0 * i for i in range(maximum + 1)]\n",
    "    for x in arr:\n",
    "        count[x] += 1   \n",
    "    for i in range(len(count) - 1):\n",
    "        count[i+1] = count[i+1] + count[i]\n",
    "    for i in range(len(count)):\n",
    "        count[i] -= 1\n",
    "    final = [0 * i for i in range(len(arr))]\n",
    "    for x in arr:\n",
    "        fin_index = count[x]\n",
    "        count[x] -= 1\n",
    "        final[fin_index] = x\n",
    "    return final"
   ]
  }
 ],
 "metadata": {
  "kernelspec": {
   "display_name": "Python 3",
   "language": "python",
   "name": "python3"
  },
  "language_info": {
   "codemirror_mode": {
    "name": "ipython",
    "version": 3
   },
   "file_extension": ".py",
   "mimetype": "text/x-python",
   "name": "python",
   "nbconvert_exporter": "python",
   "pygments_lexer": "ipython3",
   "version": "3.7.5"
  }
 },
 "nbformat": 4,
 "nbformat_minor": 4
}
